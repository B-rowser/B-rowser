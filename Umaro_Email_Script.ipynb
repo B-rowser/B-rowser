{
  "nbformat": 4,
  "nbformat_minor": 0,
  "metadata": {
    "colab": {
      "provenance": [],
      "mount_file_id": "1zOqwN8si732zbtXcKOUH2h8HEErockgu",
      "authorship_tag": "ABX9TyOQIL3heGWrIzAyMYmSSeza",
      "include_colab_link": true
    },
    "kernelspec": {
      "name": "python3",
      "display_name": "Python 3"
    },
    "language_info": {
      "name": "python"
    }
  },
  "cells": [
    {
      "cell_type": "markdown",
      "metadata": {
        "id": "view-in-github",
        "colab_type": "text"
      },
      "source": [
        "<a href=\"https://colab.research.google.com/github/B-rowser/B-rowser/blob/main/Umaro_Email_Script.ipynb\" target=\"_parent\"><img src=\"https://colab.research.google.com/assets/colab-badge.svg\" alt=\"Open In Colab\"/></a>"
      ]
    },
    {
      "cell_type": "markdown",
      "source": [
        "Welcome! If you are reading this you are likely working with Umaro and are looking to send marketing emails to our clients. This google collab has been created as a place to remotely handle this work! This document has been created by Timofey Arapov please reach out to tarapov@umarofoods.com at anytime to get help with using this application."
      ],
      "metadata": {
        "id": "cA6NUbNrqpPS"
      }
    },
    {
      "cell_type": "markdown",
      "source": [
        "This code is designed to automate the process of creating personalized email drafts for multiple recipients. It fetches data from a Google Sheet, processes the data, and then uses the information to generate customized email drafts.\n",
        "\n",
        "\n",
        "\n",
        "1. The script reads email body templates from text files and stores them.\n",
        "2. It fetches data from a specific Google Sheet.\n",
        "3. The fetched data is processed into a list containing information like recipient name, email, and other details.\n",
        "4. It generates personalized email drafts for each recipient by replacing placeholders in the email body templates with the recipient's information.\n",
        "5. Finally, the script saves the created email drafts to the sender's Gmail account.\n",
        "\n",
        "\n",
        "---\n",
        "\n",
        "\n",
        "When you run this script, you'll need to provide access to your Google account so it can fetch data from the Google Sheet and save email drafts to your Gmail account. The link to the Google Sheet being used is provided at the end of the script.\n",
        "\n",
        "To use this you will need your two things:\n",
        "1. Your email text bodies - these are templates written to fit specific restuarants. Create the folder and upload the files on the left\n",
        "2. The client_secret.json file this is provided to you by me. Think of it a password that lets you run this script.\n",
        "3. Email addresses and menu items that come from the google spread sheet.\n",
        "\n",
        "\n",
        "The google sheet is linked below.\n",
        "\n",
        "# https://docs.google.com/spreadsheets/d/1lUZtcSylCR4KR0yd7eFNxfY1qEJcBeqYunkoxPhgQM8/edit#gid=0&fvid=613069593\n",
        "\n",
        "What do the fields mean?\n",
        "\n",
        "\n",
        "\n",
        "*   Name - Restaurant Name\n",
        "*   Email - Email to which to send, can contain multiple emails but must be seperated with a space and comma.\n",
        "* menu1- Menu Item 1 From Restaurant\n",
        "* menu2- Menu Item 2 From Restaurant\n",
        "* type - the template for the email body to use\n",
        "* subject - the email subject line \n",
        "* ignore - A flag that tells the script to ignore these line **Important to not create drafts for emails already created**\n",
        "\n",
        "\n",
        "\n",
        "\n"
      ],
      "metadata": {
        "id": "TeIJSWyrp7z4"
      }
    },
    {
      "cell_type": "code",
      "source": [
        "%%capture\n",
        "\n",
        "!pip install google-auth google-auth-oauthlib google-auth-httplib2 google-api-python-client\n",
        "!pip install Flask\n",
        "!pip install pyngrok"
      ],
      "metadata": {
        "id": "FUchncFjmXQy"
      },
      "execution_count": 6,
      "outputs": []
    },
    {
      "cell_type": "code",
      "source": [
        "%%capture \n",
        "%%bash\n",
        "\n",
        "echo \"\"\"\n",
        "authtoken: 2PZvdC1vAQO24JBGLFgD4dpPNVK_27TdPyi92C5K8Drh5Em3F\n",
        "version: 2\n",
        "tunnels:\n",
        "  default:\n",
        "    proto: http\n",
        "    hostname: tumaro.ngrok.app\n",
        "    addr: 127.0.0.1:80\n",
        "\n",
        "\"\"\" > /content/ngrok.yml"
      ],
      "metadata": {
        "id": "RXHTc0yAIu5p"
      },
      "execution_count": 3,
      "outputs": []
    },
    {
      "cell_type": "code",
      "source": [
        "%%capture \n",
        "\n",
        "import os\n",
        "import threading\n",
        "import socket\n",
        "import time\n",
        "import os\n",
        "import base64\n",
        "import pickle\n",
        "import google.auth\n",
        "from pyngrok import ngrok, conf\n",
        "from google_auth_oauthlib.flow import InstalledAppFlow\n",
        "from google.auth.exceptions import RefreshError\n",
        "from email.mime.base import MIMEBase\n",
        "from email.mime.multipart import MIMEMultipart\n",
        "from email.mime.text import MIMEText\n",
        "from google.auth.transport.requests import Request\n",
        "from googleapiclient.discovery import build\n",
        "from googleapiclient.errors import HttpError\n",
        "from google.colab import auth\n",
        "from pathlib import Path\n",
        "from google.oauth2.credentials import Credentials as GoogleCredentials\n",
        "from http.server import BaseHTTPRequestHandler, HTTPServer\n",
        "from flask import Flask, request, redirect\n",
        "from google.oauth2 import service_account\n",
        "\n",
        "\n",
        "conf.get_default().config_path = \"/content/ngrok.yml\"\n",
        "\n",
        "def find_open_port():\n",
        "    with socket.socket(socket.AF_INET, socket.SOCK_STREAM) as s:\n",
        "        s.bind((\"\", 0))\n",
        "        return s.getsockname()[1]\n",
        "\n",
        "os.environ[\"FLASK_DEBUG\"] = \"development\"\n",
        "\n",
        "app = Flask(__name__)\n",
        "\n",
        "port = find_open_port()\n",
        "\n",
        "# Pass custom_config to ngrok.connect()\n",
        "public_url = ngrok.connect(port, subdomain = \"tumaroapp\" ).public_url\n",
        "\n",
        "\n",
        "\n",
        "print(\" * ngrok tunnel \\\"{}\\\" -> \\\"http://127.0.0.1:{}\\\"\".format(public_url, port))\n",
        "\n",
        "# Update any base URLs to use the public ngrok URL\n",
        "\n",
        "@app.route('/')\n",
        "def index():\n",
        "    return \"Hello from Flask!\"\n",
        "\n",
        "\n",
        "@app.route('/authorize')\n",
        "def authorize():\n",
        "    auth_code = request.args.get('code')\n",
        "    if auth_code:\n",
        "        # You can now use this auth_code in your InstalledAppFlow\n",
        "        flow = InstalledAppFlow.from_client_secrets_file(\n",
        "            'client_secrets.json', \n",
        "            scopes=[\n",
        "                'https://www.googleapis.com/auth/gmail.compose', \n",
        "                'https://www.googleapis.com/auth/spreadsheets.readonly', \n",
        "                'https://www.googleapis.com/auth/gmail.modify'\n",
        "            ],\n",
        "            redirect_uri=public_url+\"/authorize\"\n",
        "        )\n",
        "        flow.fetch_token(code=auth_code)\n",
        "        creds = flow.credentials\n",
        "        with open('token.pickle', 'wb') as token:\n",
        "            pickle.dump(creds, token)\n",
        "        # Continue with your application logic here using the creds\n",
        "        return \"Authorization successful\"\n",
        "    else:\n",
        "        return \"No authorization code found. Please check the URL.\"\n",
        "\n",
        "        \n",
        "# Start the Flask server in a new thread\n",
        "  server_thread = threading.Thread(target=app.run, kwargs={\"host\": \"127.0.0.1\", \"port\": port, \"use_reloader\": False}).start()\n",
        "  server_thread.start()\n",
        "  shutdown_thread = threading.Thread(target=shutdown_flask_app)\n",
        "  shutdown_thread.start()\n",
        "\n",
        "\n"
      ],
      "metadata": {
        "id": "UjZ1Y8bJHEtC",
        "colab": {
          "base_uri": "https://localhost:8080/"
        },
        "outputId": "796045d6-ed13-47bc-8624-f79aa3862e49"
      },
      "execution_count": 8,
      "outputs": [
        {
          "output_type": "stream",
          "name": "stdout",
          "text": [
            " * Serving Flask app '__main__'\n",
            " * Debug mode: on\n"
          ]
        },
        {
          "output_type": "stream",
          "name": "stderr",
          "text": [
            "INFO:werkzeug:\u001b[31m\u001b[1mWARNING: This is a development server. Do not use it in a production deployment. Use a production WSGI server instead.\u001b[0m\n",
            " * Running on http://127.0.0.1:34035\n",
            "INFO:werkzeug:\u001b[33mPress CTRL+C to quit\u001b[0m\n"
          ]
        }
      ]
    }
  ]
}